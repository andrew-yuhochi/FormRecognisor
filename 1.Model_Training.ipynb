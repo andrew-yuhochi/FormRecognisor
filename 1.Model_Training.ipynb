{
 "cells": [
  {
   "cell_type": "code",
   "execution_count": 1,
   "id": "91ac074a-95e8-4eb5-9dd5-a3ae52399166",
   "metadata": {},
   "outputs": [],
   "source": [
    "%load_ext autoreload\n",
    "%autoreload 2"
   ]
  },
  {
   "cell_type": "code",
   "execution_count": 2,
   "id": "c6113796-4d54-4e40-9163-7b8ad1ebf575",
   "metadata": {},
   "outputs": [],
   "source": [
    "from config import *\n",
    "import os\n",
    "import imageio as io\n",
    "import numpy as np\n",
    "import tensorflow as tf\n",
    "\n",
    "from keras import layers \n",
    "from keras import metrics\n",
    "from keras.models import Model\n",
    "from tensorflow.keras import optimizers\n",
    "from tensorflow.keras.optimizers.schedules import PolynomialDecay\n",
    "from keras.applications import resnet\n",
    "from keras.preprocessing.image import ImageDataGenerator\n",
    "from keras import callbacks\n",
    "\n",
    "import warnings\n",
    "warnings.filterwarnings(\"ignore\")\n",
    "\n",
    "np.random.seed(seed)\n",
    "tf.random.set_seed(seed)"
   ]
  },
  {
   "cell_type": "code",
   "execution_count": 3,
   "id": "e2169dc8-5ea2-4783-8cbe-5e617b5daaa7",
   "metadata": {},
   "outputs": [],
   "source": [
    "# call 1 sample image to extract image shape\n",
    "sample_img = data_path + \"/train/anchor/10041/1.jpeg\" \n",
    "input_shape = io.imread(sample_img).shape"
   ]
  },
  {
   "cell_type": "code",
   "execution_count": 4,
   "id": "5b723bf1-d7b1-41f9-a37b-32fbecfcd440",
   "metadata": {},
   "outputs": [
    {
     "name": "stdout",
     "output_type": "stream",
     "text": [
      "Found 10600 images belonging to 1 classes.\n"
     ]
    }
   ],
   "source": [
    "# call imageDataGenerator for applying all expected pre-processing on resnet50 \n",
    "datagen = ImageDataGenerator(preprocessing_function=resnet.preprocess_input)\n",
    "\n",
    "# generator function for combining Anchor, positive & negative sample in correct order\n",
    "def multi_input_data_gen(X1_dir, X2_dir, X3_dir, batch_size, seed): \n",
    "    genX1 = datagen.flow_from_directory(X1_dir, (input_shape[0], input_shape[1]), batch_size=batch_size, seed=seed, shuffle=False)\n",
    "    genX2 = datagen.flow_from_directory(X2_dir, (input_shape[0], input_shape[1]), batch_size=batch_size, seed=seed, shuffle=False)\n",
    "    genX3 = datagen.flow_from_directory(X3_dir, (input_shape[0], input_shape[1]), batch_size=batch_size, seed=seed, shuffle=False)\n",
    "    while True:\n",
    "        X1i = genX1.next()\n",
    "        X2i = genX2.next()\n",
    "        X3i = genX3.next()\n",
    "        yield [X1i[0], X2i[0], X3i[0]]\n",
    "        \n",
    "train_dir = data_path + \"/train\"\n",
    "val_dir = data_path + \"/validation\"\n",
    "test_dir = data_path + \"/test\"\n",
    "\n",
    "train_data_gen = multi_input_data_gen(train_dir + \"/anchor\", train_dir + \"/positive\", train_dir + \"/negative\", batch_size, seed)\n",
    "val_data_gen = multi_input_data_gen(val_dir + \"/anchor\", val_dir + \"/positive\", val_dir + \"/negative\", batch_size, seed)\n",
    "test_data_gen = datagen.flow_from_directory(directory =  data_path + \"/test\", target_size = (input_shape[0], input_shape[1]), batch_size = 1, class_mode = None, shuffle = False, seed=seed)"
   ]
  },
  {
   "cell_type": "code",
   "execution_count": 5,
   "id": "65ba9fcf-e56e-44ad-a4bb-f420f98d8b5d",
   "metadata": {},
   "outputs": [],
   "source": [
    "#calculate the number of classes and step size for the dataset\n",
    "\n",
    "def number_of_data(data_path, dataset):\n",
    "    \n",
    "    if dataset != \"test\":\n",
    "        dataset_path = data_path + \"/\" + dataset + \"/anchor\"\n",
    "    else:\n",
    "        dataset_path = data_path + \"/\" + dataset\n",
    "    arr1 = os.listdir(dataset_path)\n",
    "    arr1.sort()\n",
    "    \n",
    "    img_number = 0\n",
    "    if arr1[0] == '.ipynb_checkpoints':\n",
    "        arr1 = arr1[1:]\n",
    "    \n",
    "    for i in range(len(arr1)):\n",
    "        img_path = dataset_path + \"/\" + arr1[i]\n",
    "        arr2 = os.listdir(img_path)\n",
    "        arr2.sort()\n",
    "        arr2\n",
    "        if arr2[0] == '.ipynb_checkpoints':\n",
    "            arr2 = arr2[1:]\n",
    "            \n",
    "        if dataset == \"test\":\n",
    "            classes = []\n",
    "            for i in arr2:\n",
    "                classes.append(i[0:5])\n",
    "            class_num = len(set(classes))\n",
    "        else:\n",
    "            class_num = len(arr1)            \n",
    "                \n",
    "        img_number = img_number + len(arr2)\n",
    "    return class_num, img_number\n",
    "\n",
    "num_of_classes, train_step_size = number_of_data(data_path, \"train\") \n",
    "train_step_size = train_step_size//batch_size\n",
    "    \n",
    "_ , val_step_size = number_of_data(data_path, \"validation\") \n",
    "val_step_size = val_step_size//batch_size\n",
    "    \n",
    "_ , test_step_size = number_of_data(data_path, \"test\") \n",
    "test_step_size = test_step_size//1"
   ]
  },
  {
   "cell_type": "code",
   "execution_count": 6,
   "id": "f662efc9-840b-4b2a-ac68-bbe1ea0aaa52",
   "metadata": {},
   "outputs": [
    {
     "name": "stdout",
     "output_type": "stream",
     "text": [
      "Model: \"model_1\"\n",
      "__________________________________________________________________________________________________\n",
      "Layer (type)                    Output Shape         Param #     Connected to                     \n",
      "==================================================================================================\n",
      "input_2 (InputLayer)            [(None, 1024, 768, 3 0                                            \n",
      "__________________________________________________________________________________________________\n",
      "input_3 (InputLayer)            [(None, 1024, 768, 3 0                                            \n",
      "__________________________________________________________________________________________________\n",
      "input_4 (InputLayer)            [(None, 1024, 768, 3 0                                            \n",
      "__________________________________________________________________________________________________\n",
      "model (Functional)              (None, 256)          26348160    input_2[0][0]                    \n",
      "                                                                 input_3[0][0]                    \n",
      "                                                                 input_4[0][0]                    \n",
      "__________________________________________________________________________________________________\n",
      "distance_layer (DistanceLayer)  ((None,), (None,))   0           model[0][0]                      \n",
      "                                                                 model[1][0]                      \n",
      "                                                                 model[2][0]                      \n",
      "==================================================================================================\n",
      "Total params: 26,348,160\n",
      "Trainable params: 2,757,376\n",
      "Non-trainable params: 23,590,784\n",
      "__________________________________________________________________________________________________\n"
     ]
    }
   ],
   "source": [
    "# Freeze all resnet50 layers and on-top add in 3 trainable dense layes to construct \"Base Model\"\n",
    "resnet_model = resnet.ResNet50(weights=\"imagenet\", input_shape=input_shape, include_top=False)\n",
    "resnet_model.trainable = False\n",
    "    \n",
    "x = layers.GlobalAveragePooling2D()(resnet_model.output)\n",
    "    \n",
    "x = layers.Dense(1024, activation=\"relu\")(x)\n",
    "x = layers.Dropout(0.3)(x)\n",
    "x = layers.BatchNormalization()(x)\n",
    "x = layers.Dense(512, activation=\"relu\")(x)\n",
    "x = layers.Dropout(0.3)(x)\n",
    "x = layers.BatchNormalization()(x)\n",
    "outputs = layers.Dense(emb_size)(x) \n",
    "\n",
    "base_model = Model(resnet_model.input, outputs)\n",
    "\n",
    "anchor_input = layers.Input(shape=input_shape)\n",
    "positive_input = layers.Input(shape=input_shape)\n",
    "negative_input = layers.Input(shape=input_shape)\n",
    "\n",
    "# define a DistanceLayer to calculate the triplet loss\n",
    "class DistanceLayer(layers.Layer):\n",
    "    \"\"\"\n",
    "    This layer is responsible for computing the distance between the anchor\n",
    "    embedding and the positive embedding, and the anchor embedding and the\n",
    "    negative embedding.\n",
    "    \"\"\"\n",
    "\n",
    "    def __init__(self, **kwargs):\n",
    "        super().__init__(**kwargs)\n",
    "\n",
    "    def call(self, anchor, positive, negative):\n",
    "        ap_distance = tf.reduce_sum(tf.square(anchor - positive), -1)\n",
    "        an_distance = tf.reduce_sum(tf.square(anchor - negative), -1)\n",
    "        return (ap_distance, an_distance)\n",
    "    \n",
    "distances = DistanceLayer()(\n",
    "    base_model(anchor_input),\n",
    "    base_model(positive_input),\n",
    "    base_model(negative_input),\n",
    "    )\n",
    "\n",
    "model = Model(inputs=[anchor_input, positive_input, negative_input], outputs=distances)\n",
    "\n",
    "model.summary()"
   ]
  },
  {
   "cell_type": "code",
   "execution_count": 7,
   "id": "4a6482e0-f4d3-45aa-a652-19d6c3738f54",
   "metadata": {},
   "outputs": [],
   "source": [
    "# define SiameseModel classes for a custom training and testing loops.\n",
    "\n",
    "class SiameseModel(Model):\n",
    "    \"\"\"The Siamese Network model with a custom training and testing loops.\n",
    "\n",
    "    Computes the triplet loss using the three embeddings produced by the\n",
    "    Siamese Network.\n",
    "\n",
    "    The triplet loss is defined as:\n",
    "       L(A, P, N) = max(‖f(A) - f(P)‖² - ‖f(A) - f(N)‖² + margin, 0)\n",
    "    \"\"\"\n",
    "\n",
    "    def __init__(self, siamese_network, margin=margin):\n",
    "        super(SiameseModel, self).__init__()\n",
    "        self.siamese_network = siamese_network\n",
    "        self.margin = margin\n",
    "        self.loss_tracker = metrics.Mean(name=\"loss\")\n",
    "\n",
    "    def call(self, inputs):\n",
    "        return self.siamese_network(inputs)\n",
    "\n",
    "    def train_step(self, data):\n",
    "        # GradientTape is a context manager that records every operation that\n",
    "        # you do inside. We are using it here to compute the loss so we can get\n",
    "        # the gradients and apply them using the optimizer specified in\n",
    "        # `compile()`.\n",
    "        with tf.GradientTape() as tape:\n",
    "            loss = self._compute_loss(data)\n",
    "\n",
    "        # Storing the gradients of the loss function with respect to the\n",
    "        # weights/parameters.\n",
    "        gradients = tape.gradient(loss, self.siamese_network.trainable_weights)\n",
    "\n",
    "        # Applying the gradients on the model using the specified optimizer\n",
    "        self.optimizer.apply_gradients(\n",
    "            zip(gradients, self.siamese_network.trainable_weights)\n",
    "        )\n",
    "\n",
    "        # Let's update and return the training loss metric.\n",
    "        self.loss_tracker.update_state(loss)\n",
    "        return {\"loss\": self.loss_tracker.result()}\n",
    "\n",
    "    def test_step(self, data):\n",
    "        loss = self._compute_loss(data)\n",
    "\n",
    "        # Let's update and return the loss metric.\n",
    "        self.loss_tracker.update_state(loss)\n",
    "        return {\"loss\": self.loss_tracker.result()}\n",
    "\n",
    "    def _compute_loss(self, data):\n",
    "        # The output of the network is a tuple containing the distances\n",
    "        # between the anchor and the positive example, and the anchor and\n",
    "        # the negative example.\n",
    "        ap_distance, an_distance = self.siamese_network(data)\n",
    "\n",
    "        # Computing the Triplet Loss by subtracting both distances and\n",
    "        # making sure we don't get a negative value.\n",
    "        loss = ap_distance - an_distance\n",
    "        loss = tf.maximum(loss + self.margin, 0.0)\n",
    "        return loss\n",
    "\n",
    "    @property\n",
    "    def metrics(self):\n",
    "        # We need to list our metrics here so the `reset_states()` can be\n",
    "        # called automatically.\n",
    "        return [self.loss_tracker]\n",
    "    \n",
    "model = SiameseModel(model)"
   ]
  },
  {
   "cell_type": "code",
   "execution_count": 8,
   "id": "574576c0-7ad3-4270-a583-10afe03862f4",
   "metadata": {},
   "outputs": [],
   "source": [
    "# Apply Decay learning rate from initial_learning_rate to 0\n",
    "num_train_steps = train_step_size * max_num_epochs\n",
    "\n",
    "lr_scheduler = PolynomialDecay(\n",
    "    initial_learning_rate= initial_learning_rate , end_learning_rate=0.0, decay_steps=num_train_steps\n",
    ")\n",
    "\n",
    "#complie model with Adam\n",
    "model.compile(optimizer = optimizers.Adam(lr_scheduler))"
   ]
  },
  {
   "cell_type": "code",
   "execution_count": 9,
   "id": "a5e9b2a2",
   "metadata": {},
   "outputs": [
    {
     "data": {
      "text/plain": [
       "'siamese_53classes_0.0005margin_2alpha_embedding_size_256'"
      ]
     },
     "execution_count": 9,
     "metadata": {},
     "output_type": "execute_result"
    }
   ],
   "source": [
    "names = \"siamese_\" + str(num_of_classes) + \"classes_\" + str(initial_learning_rate) + \"margin_\" + str(margin) + \"alpha_embedding_size_\" + str(emb_size)\n",
    "names"
   ]
  },
  {
   "cell_type": "code",
   "execution_count": 10,
   "id": "9dec09a4-3873-4133-b1c3-f98e2ae23dfb",
   "metadata": {},
   "outputs": [
    {
     "name": "stdout",
     "output_type": "stream",
     "text": [
      "Found 31800 images belonging to 53 classes.\n",
      "Found 31800 images belonging to 53 classes.\n",
      "Found 31800 images belonging to 53 classes.\n",
      "Epoch 1/30\n",
      "3975/3975 [==============================] - ETA: 0s - loss: 0.3926Found 10600 images belonging to 53 classes.\n",
      "Found 10600 images belonging to 53 classes.\n",
      "Found 10600 images belonging to 53 classes.\n",
      "3975/3975 [==============================] - 2194s 550ms/step - loss: 0.3926 - val_loss: 0.7736\n",
      "INFO:tensorflow:Assets written to: ./Model_callback/models\\siamese_53classes_0.0005margin_2alpha_embedding_size_256\\assets\n",
      "Epoch 2/30\n",
      "3975/3975 [==============================] - 2262s 569ms/step - loss: 0.1791 - val_loss: 0.9226\n",
      "Epoch 3/30\n",
      "3975/3975 [==============================] - 2317s 583ms/step - loss: 0.1410 - val_loss: 0.3471\n",
      "INFO:tensorflow:Assets written to: ./Model_callback/models\\siamese_53classes_0.0005margin_2alpha_embedding_size_256\\assets\n",
      "Epoch 4/30\n",
      "3975/3975 [==============================] - 2355s 592ms/step - loss: 0.0996 - val_loss: 0.7568\n",
      "Epoch 5/30\n",
      "3975/3975 [==============================] - 2381s 599ms/step - loss: 0.0835 - val_loss: 0.3544\n",
      "Epoch 6/30\n",
      "3975/3975 [==============================] - 2415s 608ms/step - loss: 0.0731 - val_loss: 0.1428\n",
      "INFO:tensorflow:Assets written to: ./Model_callback/models\\siamese_53classes_0.0005margin_2alpha_embedding_size_256\\assets\n",
      "Epoch 7/30\n",
      "3975/3975 [==============================] - 2464s 620ms/step - loss: 0.0568 - val_loss: 0.4384\n",
      "Epoch 8/30\n",
      "3975/3975 [==============================] - 2498s 629ms/step - loss: 0.0530 - val_loss: 0.3457\n",
      "Epoch 9/30\n",
      "3975/3975 [==============================] - 2556s 643ms/step - loss: 0.0523 - val_loss: 0.1651\n",
      "Epoch 10/30\n",
      "3975/3975 [==============================] - 2610s 657ms/step - loss: 0.0427 - val_loss: 0.2622\n",
      "Epoch 11/30\n",
      "3975/3975 [==============================] - 2635s 663ms/step - loss: 0.0390 - val_loss: 0.2299\n",
      "Epoch 12/30\n",
      "3975/3975 [==============================] - 2542s 640ms/step - loss: 0.0308 - val_loss: 0.2037\n",
      "Epoch 13/30\n",
      "3975/3975 [==============================] - 3245s 816ms/step - loss: 0.0265 - val_loss: 0.1812\n",
      "Epoch 14/30\n",
      "3975/3975 [==============================] - 3470s 873ms/step - loss: 0.0252 - val_loss: 0.0984\n",
      "INFO:tensorflow:Assets written to: ./Model_callback/models\\siamese_53classes_0.0005margin_2alpha_embedding_size_256\\assets\n",
      "Epoch 15/30\n",
      "3975/3975 [==============================] - 3395s 854ms/step - loss: 0.0214 - val_loss: 0.1224\n",
      "Epoch 16/30\n",
      "3975/3975 [==============================] - 3492s 879ms/step - loss: 0.0217 - val_loss: 0.1063\n",
      "Epoch 17/30\n",
      "3975/3975 [==============================] - 3086s 777ms/step - loss: 0.0147 - val_loss: 0.1026\n",
      "Epoch 18/30\n",
      "3975/3975 [==============================] - 2048s 515ms/step - loss: 0.0131 - val_loss: 0.1130\n",
      "Epoch 19/30\n",
      "3975/3975 [==============================] - 3090s 778ms/step - loss: 0.0120 - val_loss: 0.1330\n",
      "Epoch 20/30\n",
      "3975/3975 [==============================] - 3450s 868ms/step - loss: 0.0108 - val_loss: 0.0764\n",
      "INFO:tensorflow:Assets written to: ./Model_callback/models\\siamese_53classes_0.0005margin_2alpha_embedding_size_256\\assets\n",
      "Epoch 21/30\n",
      "3975/3975 [==============================] - 2815s 708ms/step - loss: 0.0091 - val_loss: 0.0920\n",
      "Epoch 22/30\n",
      "3975/3975 [==============================] - 2043s 514ms/step - loss: 0.0085 - val_loss: 0.0858\n",
      "Epoch 23/30\n",
      "3975/3975 [==============================] - 2028s 510ms/step - loss: 0.0053 - val_loss: 0.0993\n",
      "Epoch 24/30\n",
      "3975/3975 [==============================] - 2036s 512ms/step - loss: 0.0046 - val_loss: 0.0801\n",
      "Epoch 25/30\n",
      "3975/3975 [==============================] - 2032s 511ms/step - loss: 0.0034 - val_loss: 0.0970\n",
      "Epoch 26/30\n",
      "3975/3975 [==============================] - 2032s 511ms/step - loss: 0.0048 - val_loss: 0.0897\n",
      "Epoch 27/30\n",
      "3975/3975 [==============================] - 2042s 514ms/step - loss: 0.0035 - val_loss: 0.0823\n",
      "Epoch 28/30\n",
      "3975/3975 [==============================] - 2038s 513ms/step - loss: 0.0022 - val_loss: 0.0664\n",
      "INFO:tensorflow:Assets written to: ./Model_callback/models\\siamese_53classes_0.0005margin_2alpha_embedding_size_256\\assets\n",
      "Epoch 29/30\n",
      "3975/3975 [==============================] - 2046s 515ms/step - loss: 0.0012 - val_loss: 0.0632\n",
      "INFO:tensorflow:Assets written to: ./Model_callback/models\\siamese_53classes_0.0005margin_2alpha_embedding_size_256\\assets\n",
      "Epoch 30/30\n",
      "3975/3975 [==============================] - 2054s 517ms/step - loss: 2.7504e-04 - val_loss: 0.0621\n",
      "INFO:tensorflow:Assets written to: ./Model_callback/models\\siamese_53classes_0.0005margin_2alpha_embedding_size_256\\assets\n"
     ]
    }
   ],
   "source": [
    "# create the callback and save the weight if a better validation loss is obtained\n",
    "my_callbacks = [callbacks.ModelCheckpoint(filepath= call_back_save_path + \"/models/\" + names, monitor='val_loss', mode='auto', save_best_only= True),\n",
    "                callbacks.CSVLogger(call_back_save_path + \"/logger/\" + names)]\n",
    "    \n",
    "siamese_53classes = model.fit(train_data_gen, steps_per_epoch = train_step_size, epochs= max_num_epochs, validation_data = val_data_gen, validation_steps = val_step_size, shuffle=True, callbacks = my_callbacks)"
   ]
  },
  {
   "cell_type": "code",
   "execution_count": 12,
   "id": "6430dab7-c1fb-4403-a563-dfeb1f098f29",
   "metadata": {},
   "outputs": [
    {
     "data": {
      "image/png": "[encoded data removed]",
      "text/plain": [
       "<Figure size 432x288 with 1 Axes>"
      ]
     },
     "metadata": {
      "needs_background": "light"
     },
     "output_type": "display_data"
    }
   ],
   "source": [
    "# plot the loss for eaiser evalution\n",
    "import matplotlib.pyplot as plt\n",
    "\n",
    "plt.plot(siamese_53classes.history ['loss'])\n",
    "plt.plot(siamese_53classes.history ['val_loss'])\n",
    "plt.title('Siamese Model validation triplet loss')\n",
    "plt.ylabel('loss')\n",
    "plt.xlabel('epoch')\n",
    "plt.legend(['loss', 'val_loss'], loc='upper right')\n",
    "plt.show()"
   ]
  },
  {
   "cell_type": "code",
   "execution_count": 13,
   "id": "05376ca5-5cf0-4a5f-8eb3-d1de8b3a48fc",
   "metadata": {},
   "outputs": [
    {
     "name": "stdout",
     "output_type": "stream",
     "text": [
      "WARNING:tensorflow:Compiled the loaded model, but the compiled metrics have yet to be built. `model.compile_metrics` will be empty until you train or evaluate the model.\n"
     ]
    }
   ],
   "source": [
    "base_model.save(model_save_path + \"/\" + names + \".h5\")"
   ]
  },
  {
   "cell_type": "code",
   "execution_count": 15,
   "id": "da1c370c",
   "metadata": {},
   "outputs": [
    {
     "data": {
      "text/plain": [
       "'siamese_53classes_0.0005margin_2alpha_embedding_size_256'"
      ]
     },
     "execution_count": 15,
     "metadata": {},
     "output_type": "execute_result"
    }
   ],
   "source": [
    "names"
   ]
  },
  {
   "cell_type": "code",
   "execution_count": null,
   "id": "09b33d2b",
   "metadata": {},
   "outputs": [],
   "source": []
  }
 ],
 "metadata": {
  "kernelspec": {
   "display_name": "Python 3 (ipykernel)",
   "language": "python",
   "name": "python3"
  },
  "language_info": {
   "codemirror_mode": {
    "name": "ipython",
    "version": 3
   },
   "file_extension": ".py",
   "mimetype": "text/x-python",
   "name": "python",
   "nbconvert_exporter": "python",
   "pygments_lexer": "ipython3",
   "version": "3.9.12"
  }
 },
 "nbformat": 4,
 "nbformat_minor": 5
}
